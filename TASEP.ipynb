{
 "cells": [
  {
   "cell_type": "markdown",
   "metadata": {},
   "source": [
    "# Proyecto TASEP\n",
    "\n",
    "## Bibliotecas"
   ]
  },
  {
   "cell_type": "code",
   "execution_count": 113,
   "metadata": {},
   "outputs": [],
   "source": [
    "import numpy as np\n",
    "import time\n",
    "import matplotlib.pyplot as plt\n",
    "import copy\n",
    "import cv2\n",
    "import tqdm\n",
    "import json\n",
    "from utils.VideoWriter import *\n",
    "from utils.RepartitionFunction import *\n",
    "from utils.LeyNumberParticules import *\n",
    "from utils.MoveLey import *\n",
    "from utils.InitialLey import *\n",
    "from utils.Grid import *"
   ]
  },
  {
   "cell_type": "code",
   "execution_count": 114,
   "metadata": {},
   "outputs": [],
   "source": [
    "N_particles_init = 100\n",
    "N_steps = 5*10**2\n",
    "sparsity = 0.5\n",
    "spawn_rate_param = 0.01\n",
    "\n",
    "### Case Uni\n",
    "\"\"\"\n",
    "x_coords = np.array([0])\n",
    "y_coords = np.array([0])\n",
    "\n",
    "p = np.array(0.3)\n",
    "q = np.array(0.3)\n",
    "\n",
    "cross_axes_prob = [0]\n",
    "spawn_pos = 5\n",
    "\"\"\"\n",
    "\n",
    "### Case Multi\n",
    "\"\"\"\n",
    "x_coords = np.array([-5])\n",
    "y_coords = np.array([10])\n",
    "\n",
    "p = np.array([0.2, 0.5])\n",
    "q = np.array([0.1, 0.2])\n",
    "\n",
    "cross_axes_prob = [1/3, 1/3, 1/3]\n",
    "spawn_pos = np.array([5, None]) # or [None, None] or [7,2] for example\n",
    "\"\"\"\n",
    "### Case Multi_HD\n",
    "\n",
    "x_coords = np.array([-10, -5, 0, 5, 10])\n",
    "y_coords = np.array([-10, -5, 0, 5, 10])\n",
    "\n",
    "#p = np.array([[0.2,0.5], [0.7, 0.05]])\n",
    "#q = np.array([[0.2,0.5], [0.1, 0.6]])\n",
    "p = np.ones((2,5))/3\n",
    "q = np.ones((2,5))/3\n",
    "\n",
    "cross_axes_prob = None\n",
    "spawn_pos = np.array([[5,None], [None, -3]])\n",
    "\n",
    "\n",
    "params = {\"p\": spawn_rate_param, \"spawn_pos\" :spawn_pos, \"x_axis\" : x_coords, \"y_axis\" : y_coords}"
   ]
  },
  {
   "cell_type": "markdown",
   "metadata": {},
   "source": [
    "## Elegir una configuracion para los axis\n",
    "0 : solo un axis  \n",
    "1 : solo un axis horizontal y vertical\n",
    "2 : multiples axis"
   ]
  },
  {
   "cell_type": "code",
   "execution_count": 115,
   "metadata": {},
   "outputs": [],
   "source": [
    "case_grid = 2\n",
    "match case_grid:\n",
    "    case 0:\n",
    "        val_initial_ley = \"uniform_uni\"\n",
    "    case 1:\n",
    "        val_initial_ley = \"uniform_multi\"\n",
    "    case 2:\n",
    "        val_initial_ley = \"approx_multiHD\""
   ]
  },
  {
   "cell_type": "markdown",
   "metadata": {},
   "source": [
    "## Elegir un tipo de movimiento\n",
    "0: movimiento a la derecha\n",
    "1: movimiento por los dos lados"
   ]
  },
  {
   "cell_type": "code",
   "execution_count": 116,
   "metadata": {},
   "outputs": [],
   "source": [
    "move_type = 1\n",
    "\n",
    "match move_type:\n",
    "    case 0:\n",
    "        move_type_name = \"bernoulli_right_sequential_\" + [\"uni\", \"multi\", \"HD\"][case_grid]\n",
    "    case 1:\n",
    "        move_type_name = \"bernoulli_both_sequential_\" + [\"uni\", \"multi\", \"HD\"][case_grid]"
   ]
  },
  {
   "cell_type": "markdown",
   "metadata": {},
   "source": [
    "## Elegir una ley de crecimiento\n",
    "0: no variacion\n",
    "1: variacion con una ley Bernoulli\n",
    "2: variacion con una ley Binomial"
   ]
  },
  {
   "cell_type": "code",
   "execution_count": 117,
   "metadata": {},
   "outputs": [],
   "source": [
    "case_growth = 0\n",
    "match case_growth:\n",
    "    case 0:\n",
    "        growth_law = \"stable\"\n",
    "    case 1:\n",
    "        growth_law = \"Bernoulli\"\n",
    "    case 2:\n",
    "        growth_law = \"Binomial\"\n"
   ]
  },
  {
   "cell_type": "markdown",
   "metadata": {},
   "source": [
    "## Elegir un tipo de insercion\n",
    "0: stable\n",
    "1: spawn between particles\n",
    "2: spawn at the same place\n",
    "3: spawn behind all the particles"
   ]
  },
  {
   "cell_type": "code",
   "execution_count": 118,
   "metadata": {},
   "outputs": [],
   "source": [
    "insert_type = 1\n",
    "match insert_type:\n",
    "    case 0:\n",
    "        insert_type_name = \"stable\"\n",
    "    case 1:\n",
    "        insert_type_name = \"spawn_between\"\n",
    "    case 2:\n",
    "        insert_type_name = \"spawn_fixed\"\n",
    "    case 3:\n",
    "        insert_type_name = \"spawn_back\""
   ]
  },
  {
   "cell_type": "code",
   "execution_count": 119,
   "metadata": {},
   "outputs": [
    {
     "name": "stdout",
     "output_type": "stream",
     "text": [
      "multi_HD\n"
     ]
    }
   ],
   "source": [
    "initial_ley = Initial_Ley(val_initial_ley, x_coordinates=x_coords, y_coordinates=y_coords, sparsity=sparsity)\n",
    "size_N = Ley_Number_Particules(insert_type_name, growth_law, kwargs=params)\n",
    "move_ley = Move_Ley(move_type_name, p, q = q, cross_axes_prob=cross_axes_prob) \n",
    "obj = Grid(N_particles_init, initial_ley, N_steps, move_ley, size_N, [\"uni\", \"multi\", \"multi_HD\"][case_grid], x_lines=x_coords, y_lines=y_coords, simul_type=\"sequential\", verif_mode=False)"
   ]
  },
  {
   "cell_type": "markdown",
   "metadata": {},
   "source": [
    "## Run the simulation"
   ]
  },
  {
   "cell_type": "code",
   "execution_count": 120,
   "metadata": {},
   "outputs": [
    {
     "name": "stdout",
     "output_type": "stream",
     "text": [
      "0.5575618743896484\n"
     ]
    }
   ],
   "source": [
    "obj.run_simulation()\n",
    "\n",
    "rec = {\"N_particles_init\": N_particles_init, \"N_steps\": N_steps, \"sparsity\": sparsity, \"spawn_rate_param\": spawn_rate_param, \"x_coords\" : x_coords.tolist(), \n",
    "       \"y_coords\":y_coords.tolist(), \"p\": np.array(p).tolist(), \"q\": np.array(q).tolist(), \"cross_axes_prob\" : np.array(cross_axes_prob).tolist(), \"spawn_pos\": np.array(spawn_pos).tolist(), \"growth_law\": growth_law, \"insert_type_name\" : insert_type_name}\n",
    "\n",
    "with open(\"result/parameters.txt\", 'w') as file:\n",
    "       file.write(json.dumps(rec))"
   ]
  },
  {
   "cell_type": "markdown",
   "metadata": {},
   "source": [
    "## Video del movimiento"
   ]
  },
  {
   "cell_type": "code",
   "execution_count": 121,
   "metadata": {},
   "outputs": [],
   "source": [
    "save = True\n",
    "\n",
    "save_path_move = \"result/movimiento.mp4\"\n",
    "if save:\n",
    "    VW = VideoWriter([\"uni\", \"multi\", \"multi_HD\"][case_grid], x_coords, y_axis=y_coords)\n",
    "    VW(save_path_move, obj.positions_record)"
   ]
  },
  {
   "cell_type": "markdown",
   "metadata": {},
   "source": [
    "## Video de la funcion de altura\n",
    "\n",
    "Cuidado: se necesita aqui el modulo FFMpeg y su localizacion, asi que hay qye entregar su direccion.\n",
    "\n",
    "Es posible descargar el proyecto aqui: [Github link](https://github.com/GyanD/codexffmpeg/releases/tag/2024-11-03-git-df00705e00).\n",
    "\n",
    "Hay que day la direccion hasta ffmpeg.exe, como _C:\\Users\\Papa_Pitufo\\Downloads\\ ...\\ffmpeg.exe_"
   ]
  },
  {
   "cell_type": "code",
   "execution_count": 122,
   "metadata": {},
   "outputs": [],
   "source": [
    "save = False\n",
    "\n",
    "save_path_vid_altura = \"result/altura_vid.mp4\"\n",
    "ffmpeg_dir = r\"C:\\Users\\antoine\\Downloads\\ffmpeg\\bin\\ffmpeg.exe\"\n",
    "\n",
    "if save:\n",
    "    VW_rep = VideoWriterRepartition([\"uni\", \"multi\", \"multi_HD\"][case_grid], x_coords, ffmpeg_dir, y_axis=y_coords)\n",
    "    VW_rep(save_path_vid_altura, obj.positions_record)"
   ]
  },
  {
   "cell_type": "markdown",
   "metadata": {},
   "source": [
    "## Funcion de altura final"
   ]
  },
  {
   "cell_type": "code",
   "execution_count": 123,
   "metadata": {},
   "outputs": [],
   "source": [
    "save_path_altura = \"result/altura_fig.png\"\n",
    "\n",
    "rep_func = Repartition_Function([\"uni\", \"multi\", \"multi_HD\"][case_grid])\n",
    "rep_func(obj.positions_record, save_path_altura)"
   ]
  }
 ],
 "metadata": {
  "kernelspec": {
   "display_name": "base",
   "language": "python",
   "name": "python3"
  },
  "language_info": {
   "codemirror_mode": {
    "name": "ipython",
    "version": 3
   },
   "file_extension": ".py",
   "mimetype": "text/x-python",
   "name": "python",
   "nbconvert_exporter": "python",
   "pygments_lexer": "ipython3",
   "version": "3.10.9"
  }
 },
 "nbformat": 4,
 "nbformat_minor": 2
}
